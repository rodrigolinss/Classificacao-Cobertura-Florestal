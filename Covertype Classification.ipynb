{
  "cells": [
    {
      "cell_type": "markdown",
      "metadata": {
        "id": "TB3QyW5YexmC"
      },
      "source": [
        "# Importação de Bibliotecas"
      ]
    },
    {
      "cell_type": "code",
      "execution_count": 1,
      "metadata": {
        "colab": {
          "base_uri": "https://localhost:8080/"
        },
        "id": "0e-VSbKG3bk8",
        "outputId": "0f15f7da-d5af-4e5f-a36b-3ccf287375b9"
      },
      "outputs": [
        {
          "name": "stdout",
          "output_type": "stream",
          "text": [
            "Requirement already satisfied: ucimlrepo in /usr/local/lib/python3.11/dist-packages (0.0.7)\n",
            "Requirement already satisfied: pandas>=1.0.0 in /usr/local/lib/python3.11/dist-packages (from ucimlrepo) (2.2.2)\n",
            "Requirement already satisfied: certifi>=2020.12.5 in /usr/local/lib/python3.11/dist-packages (from ucimlrepo) (2025.1.31)\n",
            "Requirement already satisfied: numpy>=1.23.2 in /usr/local/lib/python3.11/dist-packages (from pandas>=1.0.0->ucimlrepo) (2.0.2)\n",
            "Requirement already satisfied: python-dateutil>=2.8.2 in /usr/local/lib/python3.11/dist-packages (from pandas>=1.0.0->ucimlrepo) (2.8.2)\n",
            "Requirement already satisfied: pytz>=2020.1 in /usr/local/lib/python3.11/dist-packages (from pandas>=1.0.0->ucimlrepo) (2025.2)\n",
            "Requirement already satisfied: tzdata>=2022.7 in /usr/local/lib/python3.11/dist-packages (from pandas>=1.0.0->ucimlrepo) (2025.2)\n",
            "Requirement already satisfied: six>=1.5 in /usr/local/lib/python3.11/dist-packages (from python-dateutil>=2.8.2->pandas>=1.0.0->ucimlrepo) (1.17.0)\n"
          ]
        }
      ],
      "source": [
        "pip install ucimlrepo"
      ]
    },
    {
      "cell_type": "code",
      "execution_count": 2,
      "metadata": {
        "id": "dRpULpw59jlh"
      },
      "outputs": [],
      "source": [
        "from mpl_toolkits.mplot3d import Axes3D\n",
        "from sklearn.preprocessing import StandardScaler\n",
        "import matplotlib.pyplot as plt\n",
        "from ucimlrepo import fetch_ucirepo\n",
        "import numpy as np\n",
        "import pandas as pd"
      ]
    },
    {
      "cell_type": "markdown",
      "metadata": {
        "id": "VvXSgRLUe0Q3"
      },
      "source": [
        "# Carregar e preparar o Dataset"
      ]
    },
    {
      "cell_type": "code",
      "execution_count": 3,
      "metadata": {
        "id": "PgXHC1ml0J63"
      },
      "outputs": [],
      "source": [
        "# fetch dataset\n",
        "covertype = fetch_ucirepo(id=31)\n",
        "\n",
        "# data (as pandas dataframes)\n",
        "X = covertype.data.features\n",
        "y = covertype.data.targets\n",
        "\n",
        "df = pd.concat([X, y], axis=1)"
      ]
    },
    {
      "cell_type": "code",
      "execution_count": 6,
      "metadata": {
        "colab": {
          "base_uri": "https://localhost:8080/"
        },
        "id": "EIkozzsE3s4j",
        "outputId": "275aeeba-d191-4c02-ad4e-0851b66e9ad0"
      },
      "outputs": [
        {
          "name": "stdout",
          "output_type": "stream",
          "text": [
            "Cover_Type\n",
            "2    283301\n",
            "1    211840\n",
            "3     35754\n",
            "7     20510\n",
            "6     17367\n",
            "5      9493\n",
            "4      2747\n",
            "Name: count, dtype: int64\n"
          ]
        }
      ],
      "source": [
        "print(df[\"Cover_Type\"].value_counts())"
      ]
    },
    {
      "cell_type": "code",
      "execution_count": 7,
      "metadata": {
        "colab": {
          "base_uri": "https://localhost:8080/",
          "height": 255
        },
        "id": "-RPtay9h7hdY",
        "outputId": "5e10f847-8e9a-464e-b53e-05fe7192ee99"
      },
      "outputs": [
        {
          "data": {
            "application/vnd.google.colaboratory.intrinsic+json": {
              "type": "dataframe",
              "variable_name": "df"
            },
            "text/html": [
              "\n",
              "  <div id=\"df-65aeaeae-2e65-4da3-8635-645ebda980c5\" class=\"colab-df-container\">\n",
              "    <div>\n",
              "<style scoped>\n",
              "    .dataframe tbody tr th:only-of-type {\n",
              "        vertical-align: middle;\n",
              "    }\n",
              "\n",
              "    .dataframe tbody tr th {\n",
              "        vertical-align: top;\n",
              "    }\n",
              "\n",
              "    .dataframe thead th {\n",
              "        text-align: right;\n",
              "    }\n",
              "</style>\n",
              "<table border=\"1\" class=\"dataframe\">\n",
              "  <thead>\n",
              "    <tr style=\"text-align: right;\">\n",
              "      <th></th>\n",
              "      <th>Elevation</th>\n",
              "      <th>Aspect</th>\n",
              "      <th>Slope</th>\n",
              "      <th>Horizontal_Distance_To_Hydrology</th>\n",
              "      <th>Vertical_Distance_To_Hydrology</th>\n",
              "      <th>Horizontal_Distance_To_Roadways</th>\n",
              "      <th>Hillshade_9am</th>\n",
              "      <th>Hillshade_Noon</th>\n",
              "      <th>Hillshade_3pm</th>\n",
              "      <th>Horizontal_Distance_To_Fire_Points</th>\n",
              "      <th>...</th>\n",
              "      <th>Soil_Type35</th>\n",
              "      <th>Soil_Type36</th>\n",
              "      <th>Soil_Type37</th>\n",
              "      <th>Soil_Type38</th>\n",
              "      <th>Soil_Type39</th>\n",
              "      <th>Soil_Type40</th>\n",
              "      <th>Wilderness_Area2</th>\n",
              "      <th>Wilderness_Area3</th>\n",
              "      <th>Wilderness_Area4</th>\n",
              "      <th>Cover_Type</th>\n",
              "    </tr>\n",
              "  </thead>\n",
              "  <tbody>\n",
              "    <tr>\n",
              "      <th>0</th>\n",
              "      <td>2596</td>\n",
              "      <td>51</td>\n",
              "      <td>3</td>\n",
              "      <td>258</td>\n",
              "      <td>0</td>\n",
              "      <td>510</td>\n",
              "      <td>221</td>\n",
              "      <td>232</td>\n",
              "      <td>148</td>\n",
              "      <td>6279</td>\n",
              "      <td>...</td>\n",
              "      <td>0</td>\n",
              "      <td>0</td>\n",
              "      <td>0</td>\n",
              "      <td>0</td>\n",
              "      <td>0</td>\n",
              "      <td>0</td>\n",
              "      <td>0</td>\n",
              "      <td>0</td>\n",
              "      <td>0</td>\n",
              "      <td>5</td>\n",
              "    </tr>\n",
              "    <tr>\n",
              "      <th>1</th>\n",
              "      <td>2590</td>\n",
              "      <td>56</td>\n",
              "      <td>2</td>\n",
              "      <td>212</td>\n",
              "      <td>-6</td>\n",
              "      <td>390</td>\n",
              "      <td>220</td>\n",
              "      <td>235</td>\n",
              "      <td>151</td>\n",
              "      <td>6225</td>\n",
              "      <td>...</td>\n",
              "      <td>0</td>\n",
              "      <td>0</td>\n",
              "      <td>0</td>\n",
              "      <td>0</td>\n",
              "      <td>0</td>\n",
              "      <td>0</td>\n",
              "      <td>0</td>\n",
              "      <td>0</td>\n",
              "      <td>0</td>\n",
              "      <td>5</td>\n",
              "    </tr>\n",
              "    <tr>\n",
              "      <th>2</th>\n",
              "      <td>2804</td>\n",
              "      <td>139</td>\n",
              "      <td>9</td>\n",
              "      <td>268</td>\n",
              "      <td>65</td>\n",
              "      <td>3180</td>\n",
              "      <td>234</td>\n",
              "      <td>238</td>\n",
              "      <td>135</td>\n",
              "      <td>6121</td>\n",
              "      <td>...</td>\n",
              "      <td>0</td>\n",
              "      <td>0</td>\n",
              "      <td>0</td>\n",
              "      <td>0</td>\n",
              "      <td>0</td>\n",
              "      <td>0</td>\n",
              "      <td>0</td>\n",
              "      <td>0</td>\n",
              "      <td>0</td>\n",
              "      <td>2</td>\n",
              "    </tr>\n",
              "    <tr>\n",
              "      <th>3</th>\n",
              "      <td>2785</td>\n",
              "      <td>155</td>\n",
              "      <td>18</td>\n",
              "      <td>242</td>\n",
              "      <td>118</td>\n",
              "      <td>3090</td>\n",
              "      <td>238</td>\n",
              "      <td>238</td>\n",
              "      <td>122</td>\n",
              "      <td>6211</td>\n",
              "      <td>...</td>\n",
              "      <td>0</td>\n",
              "      <td>0</td>\n",
              "      <td>0</td>\n",
              "      <td>0</td>\n",
              "      <td>0</td>\n",
              "      <td>0</td>\n",
              "      <td>0</td>\n",
              "      <td>0</td>\n",
              "      <td>0</td>\n",
              "      <td>2</td>\n",
              "    </tr>\n",
              "    <tr>\n",
              "      <th>4</th>\n",
              "      <td>2595</td>\n",
              "      <td>45</td>\n",
              "      <td>2</td>\n",
              "      <td>153</td>\n",
              "      <td>-1</td>\n",
              "      <td>391</td>\n",
              "      <td>220</td>\n",
              "      <td>234</td>\n",
              "      <td>150</td>\n",
              "      <td>6172</td>\n",
              "      <td>...</td>\n",
              "      <td>0</td>\n",
              "      <td>0</td>\n",
              "      <td>0</td>\n",
              "      <td>0</td>\n",
              "      <td>0</td>\n",
              "      <td>0</td>\n",
              "      <td>0</td>\n",
              "      <td>0</td>\n",
              "      <td>0</td>\n",
              "      <td>5</td>\n",
              "    </tr>\n",
              "  </tbody>\n",
              "</table>\n",
              "<p>5 rows × 55 columns</p>\n",
              "</div>\n",
              "    <div class=\"colab-df-buttons\">\n",
              "\n",
              "  <div class=\"colab-df-container\">\n",
              "    <button class=\"colab-df-convert\" onclick=\"convertToInteractive('df-65aeaeae-2e65-4da3-8635-645ebda980c5')\"\n",
              "            title=\"Convert this dataframe to an interactive table.\"\n",
              "            style=\"display:none;\">\n",
              "\n",
              "  <svg xmlns=\"http://www.w3.org/2000/svg\" height=\"24px\" viewBox=\"0 -960 960 960\">\n",
              "    <path d=\"M120-120v-720h720v720H120Zm60-500h600v-160H180v160Zm220 220h160v-160H400v160Zm0 220h160v-160H400v160ZM180-400h160v-160H180v160Zm440 0h160v-160H620v160ZM180-180h160v-160H180v160Zm440 0h160v-160H620v160Z\"/>\n",
              "  </svg>\n",
              "    </button>\n",
              "\n",
              "  <style>\n",
              "    .colab-df-container {\n",
              "      display:flex;\n",
              "      gap: 12px;\n",
              "    }\n",
              "\n",
              "    .colab-df-convert {\n",
              "      background-color: #E8F0FE;\n",
              "      border: none;\n",
              "      border-radius: 50%;\n",
              "      cursor: pointer;\n",
              "      display: none;\n",
              "      fill: #1967D2;\n",
              "      height: 32px;\n",
              "      padding: 0 0 0 0;\n",
              "      width: 32px;\n",
              "    }\n",
              "\n",
              "    .colab-df-convert:hover {\n",
              "      background-color: #E2EBFA;\n",
              "      box-shadow: 0px 1px 2px rgba(60, 64, 67, 0.3), 0px 1px 3px 1px rgba(60, 64, 67, 0.15);\n",
              "      fill: #174EA6;\n",
              "    }\n",
              "\n",
              "    .colab-df-buttons div {\n",
              "      margin-bottom: 4px;\n",
              "    }\n",
              "\n",
              "    [theme=dark] .colab-df-convert {\n",
              "      background-color: #3B4455;\n",
              "      fill: #D2E3FC;\n",
              "    }\n",
              "\n",
              "    [theme=dark] .colab-df-convert:hover {\n",
              "      background-color: #434B5C;\n",
              "      box-shadow: 0px 1px 3px 1px rgba(0, 0, 0, 0.15);\n",
              "      filter: drop-shadow(0px 1px 2px rgba(0, 0, 0, 0.3));\n",
              "      fill: #FFFFFF;\n",
              "    }\n",
              "  </style>\n",
              "\n",
              "    <script>\n",
              "      const buttonEl =\n",
              "        document.querySelector('#df-65aeaeae-2e65-4da3-8635-645ebda980c5 button.colab-df-convert');\n",
              "      buttonEl.style.display =\n",
              "        google.colab.kernel.accessAllowed ? 'block' : 'none';\n",
              "\n",
              "      async function convertToInteractive(key) {\n",
              "        const element = document.querySelector('#df-65aeaeae-2e65-4da3-8635-645ebda980c5');\n",
              "        const dataTable =\n",
              "          await google.colab.kernel.invokeFunction('convertToInteractive',\n",
              "                                                    [key], {});\n",
              "        if (!dataTable) return;\n",
              "\n",
              "        const docLinkHtml = 'Like what you see? Visit the ' +\n",
              "          '<a target=\"_blank\" href=https://colab.research.google.com/notebooks/data_table.ipynb>data table notebook</a>'\n",
              "          + ' to learn more about interactive tables.';\n",
              "        element.innerHTML = '';\n",
              "        dataTable['output_type'] = 'display_data';\n",
              "        await google.colab.output.renderOutput(dataTable, element);\n",
              "        const docLink = document.createElement('div');\n",
              "        docLink.innerHTML = docLinkHtml;\n",
              "        element.appendChild(docLink);\n",
              "      }\n",
              "    </script>\n",
              "  </div>\n",
              "\n",
              "\n",
              "<div id=\"df-d85a6b4c-5a7d-4659-bdfc-517263c5cc9a\">\n",
              "  <button class=\"colab-df-quickchart\" onclick=\"quickchart('df-d85a6b4c-5a7d-4659-bdfc-517263c5cc9a')\"\n",
              "            title=\"Suggest charts\"\n",
              "            style=\"display:none;\">\n",
              "\n",
              "<svg xmlns=\"http://www.w3.org/2000/svg\" height=\"24px\"viewBox=\"0 0 24 24\"\n",
              "     width=\"24px\">\n",
              "    <g>\n",
              "        <path d=\"M19 3H5c-1.1 0-2 .9-2 2v14c0 1.1.9 2 2 2h14c1.1 0 2-.9 2-2V5c0-1.1-.9-2-2-2zM9 17H7v-7h2v7zm4 0h-2V7h2v10zm4 0h-2v-4h2v4z\"/>\n",
              "    </g>\n",
              "</svg>\n",
              "  </button>\n",
              "\n",
              "<style>\n",
              "  .colab-df-quickchart {\n",
              "      --bg-color: #E8F0FE;\n",
              "      --fill-color: #1967D2;\n",
              "      --hover-bg-color: #E2EBFA;\n",
              "      --hover-fill-color: #174EA6;\n",
              "      --disabled-fill-color: #AAA;\n",
              "      --disabled-bg-color: #DDD;\n",
              "  }\n",
              "\n",
              "  [theme=dark] .colab-df-quickchart {\n",
              "      --bg-color: #3B4455;\n",
              "      --fill-color: #D2E3FC;\n",
              "      --hover-bg-color: #434B5C;\n",
              "      --hover-fill-color: #FFFFFF;\n",
              "      --disabled-bg-color: #3B4455;\n",
              "      --disabled-fill-color: #666;\n",
              "  }\n",
              "\n",
              "  .colab-df-quickchart {\n",
              "    background-color: var(--bg-color);\n",
              "    border: none;\n",
              "    border-radius: 50%;\n",
              "    cursor: pointer;\n",
              "    display: none;\n",
              "    fill: var(--fill-color);\n",
              "    height: 32px;\n",
              "    padding: 0;\n",
              "    width: 32px;\n",
              "  }\n",
              "\n",
              "  .colab-df-quickchart:hover {\n",
              "    background-color: var(--hover-bg-color);\n",
              "    box-shadow: 0 1px 2px rgba(60, 64, 67, 0.3), 0 1px 3px 1px rgba(60, 64, 67, 0.15);\n",
              "    fill: var(--button-hover-fill-color);\n",
              "  }\n",
              "\n",
              "  .colab-df-quickchart-complete:disabled,\n",
              "  .colab-df-quickchart-complete:disabled:hover {\n",
              "    background-color: var(--disabled-bg-color);\n",
              "    fill: var(--disabled-fill-color);\n",
              "    box-shadow: none;\n",
              "  }\n",
              "\n",
              "  .colab-df-spinner {\n",
              "    border: 2px solid var(--fill-color);\n",
              "    border-color: transparent;\n",
              "    border-bottom-color: var(--fill-color);\n",
              "    animation:\n",
              "      spin 1s steps(1) infinite;\n",
              "  }\n",
              "\n",
              "  @keyframes spin {\n",
              "    0% {\n",
              "      border-color: transparent;\n",
              "      border-bottom-color: var(--fill-color);\n",
              "      border-left-color: var(--fill-color);\n",
              "    }\n",
              "    20% {\n",
              "      border-color: transparent;\n",
              "      border-left-color: var(--fill-color);\n",
              "      border-top-color: var(--fill-color);\n",
              "    }\n",
              "    30% {\n",
              "      border-color: transparent;\n",
              "      border-left-color: var(--fill-color);\n",
              "      border-top-color: var(--fill-color);\n",
              "      border-right-color: var(--fill-color);\n",
              "    }\n",
              "    40% {\n",
              "      border-color: transparent;\n",
              "      border-right-color: var(--fill-color);\n",
              "      border-top-color: var(--fill-color);\n",
              "    }\n",
              "    60% {\n",
              "      border-color: transparent;\n",
              "      border-right-color: var(--fill-color);\n",
              "    }\n",
              "    80% {\n",
              "      border-color: transparent;\n",
              "      border-right-color: var(--fill-color);\n",
              "      border-bottom-color: var(--fill-color);\n",
              "    }\n",
              "    90% {\n",
              "      border-color: transparent;\n",
              "      border-bottom-color: var(--fill-color);\n",
              "    }\n",
              "  }\n",
              "</style>\n",
              "\n",
              "  <script>\n",
              "    async function quickchart(key) {\n",
              "      const quickchartButtonEl =\n",
              "        document.querySelector('#' + key + ' button');\n",
              "      quickchartButtonEl.disabled = true;  // To prevent multiple clicks.\n",
              "      quickchartButtonEl.classList.add('colab-df-spinner');\n",
              "      try {\n",
              "        const charts = await google.colab.kernel.invokeFunction(\n",
              "            'suggestCharts', [key], {});\n",
              "      } catch (error) {\n",
              "        console.error('Error during call to suggestCharts:', error);\n",
              "      }\n",
              "      quickchartButtonEl.classList.remove('colab-df-spinner');\n",
              "      quickchartButtonEl.classList.add('colab-df-quickchart-complete');\n",
              "    }\n",
              "    (() => {\n",
              "      let quickchartButtonEl =\n",
              "        document.querySelector('#df-d85a6b4c-5a7d-4659-bdfc-517263c5cc9a button');\n",
              "      quickchartButtonEl.style.display =\n",
              "        google.colab.kernel.accessAllowed ? 'block' : 'none';\n",
              "    })();\n",
              "  </script>\n",
              "</div>\n",
              "\n",
              "    </div>\n",
              "  </div>\n"
            ],
            "text/plain": [
              "   Elevation  Aspect  Slope  Horizontal_Distance_To_Hydrology  \\\n",
              "0       2596      51      3                               258   \n",
              "1       2590      56      2                               212   \n",
              "2       2804     139      9                               268   \n",
              "3       2785     155     18                               242   \n",
              "4       2595      45      2                               153   \n",
              "\n",
              "   Vertical_Distance_To_Hydrology  Horizontal_Distance_To_Roadways  \\\n",
              "0                               0                              510   \n",
              "1                              -6                              390   \n",
              "2                              65                             3180   \n",
              "3                             118                             3090   \n",
              "4                              -1                              391   \n",
              "\n",
              "   Hillshade_9am  Hillshade_Noon  Hillshade_3pm  \\\n",
              "0            221             232            148   \n",
              "1            220             235            151   \n",
              "2            234             238            135   \n",
              "3            238             238            122   \n",
              "4            220             234            150   \n",
              "\n",
              "   Horizontal_Distance_To_Fire_Points  ...  Soil_Type35  Soil_Type36  \\\n",
              "0                                6279  ...            0            0   \n",
              "1                                6225  ...            0            0   \n",
              "2                                6121  ...            0            0   \n",
              "3                                6211  ...            0            0   \n",
              "4                                6172  ...            0            0   \n",
              "\n",
              "   Soil_Type37  Soil_Type38  Soil_Type39  Soil_Type40  Wilderness_Area2  \\\n",
              "0            0            0            0            0                 0   \n",
              "1            0            0            0            0                 0   \n",
              "2            0            0            0            0                 0   \n",
              "3            0            0            0            0                 0   \n",
              "4            0            0            0            0                 0   \n",
              "\n",
              "   Wilderness_Area3  Wilderness_Area4  Cover_Type  \n",
              "0                 0                 0           5  \n",
              "1                 0                 0           5  \n",
              "2                 0                 0           2  \n",
              "3                 0                 0           2  \n",
              "4                 0                 0           5  \n",
              "\n",
              "[5 rows x 55 columns]"
            ]
          },
          "execution_count": 7,
          "metadata": {},
          "output_type": "execute_result"
        }
      ],
      "source": [
        "df.head()"
      ]
    },
    {
      "cell_type": "markdown",
      "metadata": {
        "id": "FdvMFkYjVxCG"
      },
      "source": [
        "# Normalização das variáveis quantitativas"
      ]
    },
    {
      "cell_type": "code",
      "execution_count": 8,
      "metadata": {
        "colab": {
          "base_uri": "https://localhost:8080/"
        },
        "id": "F0nop95UQRKD",
        "outputId": "7ef87e3e-460b-4565-cfc1-dffaa7b27274"
      },
      "outputs": [
        {
          "name": "stdout",
          "output_type": "stream",
          "text": [
            "Antes da normalização:\n",
            "           Elevation         Aspect          Slope  \\\n",
            "count  581012.000000  581012.000000  581012.000000   \n",
            "mean     2959.365301     155.656807      14.103704   \n",
            "std       279.984734     111.913721       7.488242   \n",
            "min      1859.000000       0.000000       0.000000   \n",
            "25%      2809.000000      58.000000       9.000000   \n",
            "50%      2996.000000     127.000000      13.000000   \n",
            "75%      3163.000000     260.000000      18.000000   \n",
            "max      3858.000000     360.000000      66.000000   \n",
            "\n",
            "       Horizontal_Distance_To_Hydrology  Vertical_Distance_To_Hydrology  \\\n",
            "count                     581012.000000                   581012.000000   \n",
            "mean                         269.428217                       46.418855   \n",
            "std                          212.549356                       58.295232   \n",
            "min                            0.000000                     -173.000000   \n",
            "25%                          108.000000                        7.000000   \n",
            "50%                          218.000000                       30.000000   \n",
            "75%                          384.000000                       69.000000   \n",
            "max                         1397.000000                      601.000000   \n",
            "\n",
            "       Horizontal_Distance_To_Roadways  Hillshade_9am  Hillshade_Noon  \\\n",
            "count                    581012.000000  581012.000000   581012.000000   \n",
            "mean                       2350.146611     212.146049      223.318716   \n",
            "std                        1559.254870      26.769889       19.768697   \n",
            "min                           0.000000       0.000000        0.000000   \n",
            "25%                        1106.000000     198.000000      213.000000   \n",
            "50%                        1997.000000     218.000000      226.000000   \n",
            "75%                        3328.000000     231.000000      237.000000   \n",
            "max                        7117.000000     254.000000      254.000000   \n",
            "\n",
            "       Hillshade_3pm  Horizontal_Distance_To_Fire_Points  \n",
            "count  581012.000000                       581012.000000  \n",
            "mean      142.528263                         1980.291226  \n",
            "std        38.274529                         1324.195210  \n",
            "min         0.000000                            0.000000  \n",
            "25%       119.000000                         1024.000000  \n",
            "50%       143.000000                         1710.000000  \n",
            "75%       168.000000                         2550.000000  \n",
            "max       254.000000                         7173.000000  \n"
          ]
        }
      ],
      "source": [
        "# Listando as colunas quantitativas do dataset\n",
        "colunas_quantitativas = [\n",
        "    \"Elevation\", \"Aspect\", \"Slope\",\n",
        "    \"Horizontal_Distance_To_Hydrology\", \"Vertical_Distance_To_Hydrology\",\n",
        "    \"Horizontal_Distance_To_Roadways\", \"Hillshade_9am\",\n",
        "    \"Hillshade_Noon\", \"Hillshade_3pm\", \"Horizontal_Distance_To_Fire_Points\"\n",
        "]\n",
        "\n",
        "print(\"Antes da normalização:\")\n",
        "print(df[colunas_quantitativas].describe())"
      ]
    },
    {
      "cell_type": "code",
      "execution_count": 9,
      "metadata": {
        "colab": {
          "base_uri": "https://localhost:8080/"
        },
        "id": "giu8ektmQ4Kz",
        "outputId": "911535ba-b63d-4846-a969-ec73ee1627d6"
      },
      "outputs": [
        {
          "name": "stdout",
          "output_type": "stream",
          "text": [
            "\n",
            "Depois da normalização:\n",
            "          Elevation        Aspect         Slope  \\\n",
            "count  5.810120e+05  5.810120e+05  5.810120e+05   \n",
            "mean  -3.819486e-16 -3.913408e-17  6.417988e-17   \n",
            "std    1.000001e+00  1.000001e+00  1.000001e+00   \n",
            "min   -3.930094e+00 -1.390866e+00 -1.883448e+00   \n",
            "25%   -5.370487e-01 -8.726087e-01 -6.815629e-01   \n",
            "50%    1.308455e-01 -2.560618e-01 -1.473917e-01   \n",
            "75%    7.273071e-01  9.323547e-01  5.203224e-01   \n",
            "max    3.209587e+00  1.825901e+00  6.930377e+00   \n",
            "\n",
            "       Horizontal_Distance_To_Hydrology  Vertical_Distance_To_Hydrology  \\\n",
            "count                      5.810120e+05                    5.810120e+05   \n",
            "mean                      -7.122402e-17                    8.061620e-17   \n",
            "std                        1.000001e+00                    1.000001e+00   \n",
            "min                       -1.267604e+00                   -3.763928e+00   \n",
            "25%                       -7.594865e-01                   -6.761941e-01   \n",
            "50%                       -2.419591e-01                   -2.816503e-01   \n",
            "75%                        5.390366e-01                    3.873587e-01   \n",
            "max                        5.304993e+00                    9.513327e+00   \n",
            "\n",
            "       Horizontal_Distance_To_Roadways  Hillshade_9am  Hillshade_Noon  \\\n",
            "count                     5.810120e+05   5.810120e+05    5.810120e+05   \n",
            "mean                      2.191508e-17   5.060036e-16    3.025064e-16   \n",
            "std                       1.000001e+00   1.000001e+00    1.000001e+00   \n",
            "min                      -1.507225e+00  -7.924808e+00   -1.129659e+01   \n",
            "25%                      -7.979117e-01  -5.284318e-01   -5.219730e-01   \n",
            "50%                      -2.264844e-01   2.186769e-01    1.356329e-01   \n",
            "75%                       6.271292e-01   7.042976e-01    6.920686e-01   \n",
            "max                       3.057138e+00   1.563473e+00    1.552015e+00   \n",
            "\n",
            "       Hillshade_3pm  Horizontal_Distance_To_Fire_Points  \n",
            "count   5.810120e+05                        5.810120e+05  \n",
            "mean   -1.385346e-16                        1.565363e-17  \n",
            "std     1.000001e+00                        1.000001e+00  \n",
            "min    -3.723844e+00                       -1.495469e+00  \n",
            "25%    -6.147243e-01                       -7.221685e-01  \n",
            "50%     1.232511e-02                       -2.041175e-01  \n",
            "75%     6.655016e-01                        4.302306e-01  \n",
            "max     2.912429e+00                        3.921411e+00  \n"
          ]
        }
      ],
      "source": [
        "# Criando o normalizador (StandardScaler)\n",
        "scaler = StandardScaler()\n",
        "\n",
        "# Aplicando a normalização nas colunas quantitativas\n",
        "df[colunas_quantitativas] = scaler.fit_transform(df[colunas_quantitativas])\n",
        "\n",
        "print(\"\\nDepois da normalização:\")\n",
        "print(df[colunas_quantitativas].describe())"
      ]
    },
    {
      "cell_type": "markdown",
      "metadata": {
        "id": "PbFSzlh3WAnm"
      },
      "source": [
        "# Dividir em Treino e Teste"
      ]
    },
    {
      "cell_type": "code",
      "execution_count": 10,
      "metadata": {
        "colab": {
          "base_uri": "https://localhost:8080/"
        },
        "id": "zApc9qdQTJrd",
        "outputId": "99240c50-c1a7-49cd-a8ba-f5fdeee12378"
      },
      "outputs": [
        {
          "name": "stdout",
          "output_type": "stream",
          "text": [
            "Valores únicos do target após ajuste: [4 1 0 6 2 5 3]\n"
          ]
        }
      ],
      "source": [
        "# Ajustar a variável alvo para começar de 0\n",
        "df[\"Cover_Type\"] = df[\"Cover_Type\"] - 1\n",
        "\n",
        "print(\"Valores únicos do target após ajuste:\", df[\"Cover_Type\"].unique())"
      ]
    },
    {
      "cell_type": "code",
      "execution_count": 11,
      "metadata": {
        "colab": {
          "base_uri": "https://localhost:8080/"
        },
        "id": "Yb43t4gaRMyr",
        "outputId": "fb28d170-f254-49a0-86c7-7261d06060a9"
      },
      "outputs": [
        {
          "name": "stdout",
          "output_type": "stream",
          "text": [
            "Tamanho do conjunto de treino: (464809, 54)\n",
            "Tamanho do conjunto de teste: (116203, 54)\n"
          ]
        }
      ],
      "source": [
        "from sklearn.model_selection import train_test_split\n",
        "\n",
        "X = df.drop(columns=[\"Cover_Type\"])\n",
        "y = df[\"Cover_Type\"]  # Target\n",
        "\n",
        "\n",
        "X_train, X_test, y_train, y_test = train_test_split(X, y, test_size=0.2, random_state=42, stratify=y)\n",
        "\n",
        "print(f\"Tamanho do conjunto de treino: {X_train.shape}\")\n",
        "print(f\"Tamanho do conjunto de teste: {X_test.shape}\")"
      ]
    },
    {
      "cell_type": "markdown",
      "metadata": {
        "id": "B1HOo5bfWCu4"
      },
      "source": [
        "# Converter para Tensors"
      ]
    },
    {
      "cell_type": "code",
      "execution_count": 12,
      "metadata": {
        "colab": {
          "base_uri": "https://localhost:8080/"
        },
        "id": "HOs1-v7fRgwd",
        "outputId": "de4e3588-715c-40ce-e9a4-141a87de6f19"
      },
      "outputs": [
        {
          "name": "stdout",
          "output_type": "stream",
          "text": [
            "X_train_tensor shape: torch.Size([464809, 54])\n",
            "X_test_tensor shape: torch.Size([116203, 54])\n",
            "y_train_tensor shape: torch.Size([464809])\n",
            "y_test_tensor shape: torch.Size([116203])\n"
          ]
        }
      ],
      "source": [
        "import torch\n",
        "\n",
        "# Convertendo o df para Tensors do PyTorch\n",
        "X_train_tensor = torch.tensor(X_train.values, dtype=torch.float32)\n",
        "X_test_tensor = torch.tensor(X_test.values, dtype=torch.float32)\n",
        "y_train_tensor = torch.tensor(y_train.values, dtype=torch.long)\n",
        "y_test_tensor = torch.tensor(y_test.values, dtype=torch.long)\n",
        "\n",
        "print(f\"X_train_tensor shape: {X_train_tensor.shape}\")\n",
        "print(f\"X_test_tensor shape: {X_test_tensor.shape}\")\n",
        "print(f\"y_train_tensor shape: {y_train_tensor.shape}\")\n",
        "print(f\"y_test_tensor shape: {y_test_tensor.shape}\")\n"
      ]
    },
    {
      "cell_type": "markdown",
      "metadata": {
        "id": "wO6slaxiWGhu"
      },
      "source": [
        "# Criar DataLoader"
      ]
    },
    {
      "cell_type": "code",
      "execution_count": 13,
      "metadata": {
        "colab": {
          "base_uri": "https://localhost:8080/"
        },
        "id": "h3eu4BLuRz_k",
        "outputId": "cd2bad5d-2763-4169-d752-066ea53dd02e"
      },
      "outputs": [
        {
          "name": "stdout",
          "output_type": "stream",
          "text": [
            "Número de batches no conjunto de treino: 7263\n",
            "Número de batches no conjunto de teste: 1816\n"
          ]
        }
      ],
      "source": [
        "from torch.utils.data import TensorDataset, DataLoader\n",
        "\n",
        "# Criando o dataset do PyTorch\n",
        "train_dataset = TensorDataset(X_train_tensor, y_train_tensor)\n",
        "test_dataset = TensorDataset(X_test_tensor, y_test_tensor)\n",
        "\n",
        "# Criando os DataLoaders\n",
        "batch_size = 64  # Número de amostras por lote\n",
        "train_loader = DataLoader(train_dataset, batch_size=batch_size, shuffle=True)\n",
        "test_loader = DataLoader(test_dataset, batch_size=batch_size, shuffle=False)\n",
        "\n",
        "print(f\"Número de batches no conjunto de treino: {len(train_loader)}\")\n",
        "print(f\"Número de batches no conjunto de teste: {len(test_loader)}\")\n"
      ]
    },
    {
      "cell_type": "markdown",
      "metadata": {
        "id": "zXQLDbCwWL9m"
      },
      "source": [
        "# Definir a Rede Neural"
      ]
    },
    {
      "cell_type": "code",
      "execution_count": null,
      "metadata": {
        "colab": {
          "base_uri": "https://localhost:8080/"
        },
        "id": "lZb2eE3fSDPs",
        "outputId": "8a32674e-b955-4471-a754-693fe61c5f60"
      },
      "outputs": [
        {
          "name": "stdout",
          "output_type": "stream",
          "text": [
            "CoverTypeNN(\n",
            "  (fc1): Linear(in_features=54, out_features=128, bias=True)\n",
            "  (bn1): BatchNorm1d(128, eps=1e-05, momentum=0.1, affine=True, track_running_stats=True)\n",
            "  (fc2): Linear(in_features=128, out_features=64, bias=True)\n",
            "  (bn2): BatchNorm1d(64, eps=1e-05, momentum=0.1, affine=True, track_running_stats=True)\n",
            "  (fc3): Linear(in_features=64, out_features=7, bias=True)\n",
            ")\n"
          ]
        }
      ],
      "source": [
        "import torch.nn as nn\n",
        "import torch.nn.functional as F\n",
        "\n",
        "# arquitetura da rede neural\n",
        "class CoverTypeNN(nn.Module):\n",
        "    def __init__(self, input_size, hidden_size1, hidden_size2, output_size):\n",
        "        super(CoverTypeNN, self).__init__()\n",
        "\n",
        "        # Camada de entrada -> Primeira camada oculta\n",
        "        self.fc1 = nn.Linear(input_size, hidden_size1)\n",
        "        self.bn1 = nn.BatchNorm1d(hidden_size1)  # Normalização\n",
        "\n",
        "        # Primeira -> Segunda camada oculta\n",
        "        self.fc2 = nn.Linear(hidden_size1, hidden_size2)\n",
        "        self.bn2 = nn.BatchNorm1d(hidden_size2)  # Normalização\n",
        "\n",
        "        # Segunda camada oculta -> Saída\n",
        "        self.fc3 = nn.Linear(hidden_size2, output_size)\n",
        "\n",
        "    def forward(self, x):\n",
        "        x = F.relu(self.bn1(self.fc1(x))) \n",
        "        x = F.relu(self.bn2(self.fc2(x))) \n",
        "        x = self.fc3(x)  # Saída (sem ativação pois usaremos CrossEntropyLoss)\n",
        "        return x\n",
        "\n",
        "# Definição dos tamanhos das camadas\n",
        "input_size = X_train_tensor.shape[1]  # Número de colunas (54)\n",
        "hidden_size1 = 128\n",
        "hidden_size2 = 64\n",
        "output_size = 7  # 7 classes de cobertura florestal\n",
        "\n",
        "# Criando o modelo\n",
        "model = CoverTypeNN(input_size, hidden_size1, hidden_size2, output_size)\n",
        "print(model)\n"
      ]
    },
    {
      "cell_type": "markdown",
      "metadata": {
        "id": "6mc7rH2IWqDl"
      },
      "source": [
        "# Configurar Função de Perda e Otimizador"
      ]
    },
    {
      "cell_type": "code",
      "execution_count": 15,
      "metadata": {
        "colab": {
          "base_uri": "https://localhost:8080/"
        },
        "id": "12Cz8FmnSJfE",
        "outputId": "03da2731-2144-485b-80a5-6832b2770fb2"
      },
      "outputs": [
        {
          "name": "stdout",
          "output_type": "stream",
          "text": [
            "Modelo configurado para treinar em: cpu\n"
          ]
        }
      ],
      "source": [
        "import torch.optim as optim\n",
        "\n",
        "# Definição da função de perda (CrossEntropyLoss para classificação)\n",
        "criterion = nn.CrossEntropyLoss()\n",
        "\n",
        "# Definição do otimizador (Adam)\n",
        "optimizer = optim.Adam(model.parameters(), lr=0.001)  # Taxa de aprendizado = 0.001\n",
        "\n",
        "# Move o modelo para a GPU se disponível\n",
        "device = torch.device(\"cuda\" if torch.cuda.is_available() else \"cpu\")\n",
        "model.to(device)\n",
        "\n",
        "print(f\"Modelo configurado para treinar em: {device}\")\n"
      ]
    },
    {
      "cell_type": "markdown",
      "metadata": {
        "id": "hzXuMj7RWeQu"
      },
      "source": [
        "# Treinamento do Modelo"
      ]
    },
    {
      "cell_type": "code",
      "execution_count": 16,
      "metadata": {
        "colab": {
          "base_uri": "https://localhost:8080/"
        },
        "id": "SA9rUgczSbPe",
        "outputId": "a133b94a-742c-4e8b-8068-6896ac982d7b"
      },
      "outputs": [
        {
          "name": "stdout",
          "output_type": "stream",
          "text": [
            "Epoch [1/10], Loss: 0.5166\n",
            "Epoch [2/10], Loss: 0.4248\n",
            "Epoch [3/10], Loss: 0.3958\n",
            "Epoch [4/10], Loss: 0.3791\n",
            "Epoch [5/10], Loss: 0.3674\n",
            "Epoch [6/10], Loss: 0.3581\n",
            "Epoch [7/10], Loss: 0.3526\n",
            "Epoch [8/10], Loss: 0.3465\n",
            "Epoch [9/10], Loss: 0.3416\n",
            "Epoch [10/10], Loss: 0.3376\n"
          ]
        }
      ],
      "source": [
        "# Definir número de Epochs\n",
        "num_epochs = 10\n",
        "\n",
        "# treinamento\n",
        "for epoch in range(num_epochs):\n",
        "    model.train()\n",
        "\n",
        "    running_loss = 0.0\n",
        "\n",
        "    for batch_X, batch_y in train_loader:\n",
        "        # Mover os dados para a CPU\n",
        "        batch_X, batch_y = batch_X.to(\"cpu\"), batch_y.to(\"cpu\")\n",
        "\n",
        "        # Zerar gradientes\n",
        "        optimizer.zero_grad()\n",
        "\n",
        "        # Forward pass\n",
        "        outputs = model(batch_X)\n",
        "\n",
        "        # Calcular perda\n",
        "        loss = criterion(outputs, batch_y)\n",
        "\n",
        "        # Backward pass (cálculo dos gradientes) e atualização dos pesos\n",
        "        loss.backward()\n",
        "        optimizer.step()\n",
        "\n",
        "        # Acumular perda\n",
        "        running_loss += loss.item()\n",
        "\n",
        "    # Exibir estatísticas da época\n",
        "    print(f\"Epoch [{epoch+1}/{num_epochs}], Loss: {running_loss/len(train_loader):.4f}\")\n",
        "\n"
      ]
    },
    {
      "cell_type": "markdown",
      "metadata": {
        "id": "rBhgCKklYi3Q"
      },
      "source": [
        "# Avaliação do Modelo"
      ]
    },
    {
      "cell_type": "code",
      "execution_count": 17,
      "metadata": {
        "colab": {
          "base_uri": "https://localhost:8080/"
        },
        "id": "2wpeHQ6cYls2",
        "outputId": "98ede573-3eff-46f0-ffc7-3b814c2ed378"
      },
      "outputs": [
        {
          "name": "stdout",
          "output_type": "stream",
          "text": [
            "Acurácia no conjunto de teste: 88.06%\n"
          ]
        }
      ],
      "source": [
        "# Colocar o modelo em modo de avaliação\n",
        "model.eval()\n",
        "\n",
        "# Inicializar contadores\n",
        "correct = 0\n",
        "total = 0\n",
        "\n",
        "# Desativar cálculo de gradiente (econ)\n",
        "with torch.no_grad():\n",
        "    for batch_X, batch_y in test_loader:\n",
        "        # Mover para CPU/GPU conforme necessário\n",
        "        batch_X, batch_y = batch_X.to(device), batch_y.to(device)\n",
        "\n",
        "        # Fazer previsões\n",
        "        outputs = model(batch_X)\n",
        "        _, predicted = torch.max(outputs, 1)  # Obtém a classe com maior probabilidade\n",
        "\n",
        "        # Atualizar contadores\n",
        "        total += batch_y.size(0)\n",
        "        correct += (predicted == batch_y).sum().item()\n",
        "\n",
        "# Calcular acurácia\n",
        "accuracy = 100 * correct / total\n",
        "print(f\"Acurácia no conjunto de teste: {accuracy:.2f}%\")\n"
      ]
    },
    {
      "cell_type": "code",
      "execution_count": 18,
      "metadata": {
        "colab": {
          "base_uri": "https://localhost:8080/"
        },
        "id": "xhGzygt7YxN-",
        "outputId": "da258c00-6eaf-4159-e5d6-dbe9bdb6f60b"
      },
      "outputs": [
        {
          "name": "stdout",
          "output_type": "stream",
          "text": [
            "Relatório de Classificação:\n",
            "\n",
            "              precision    recall  f1-score   support\n",
            "\n",
            "           0       0.90      0.84      0.87     42368\n",
            "           1       0.87      0.93      0.90     56661\n",
            "           2       0.87      0.88      0.88      7151\n",
            "           3       0.82      0.77      0.79       549\n",
            "           4       0.81      0.58      0.67      1899\n",
            "           5       0.79      0.75      0.77      3473\n",
            "           6       0.91      0.89      0.90      4102\n",
            "\n",
            "    accuracy                           0.88    116203\n",
            "   macro avg       0.85      0.81      0.83    116203\n",
            "weighted avg       0.88      0.88      0.88    116203\n",
            "\n"
          ]
        }
      ],
      "source": [
        "from sklearn.metrics import classification_report, confusion_matrix\n",
        "import seaborn as sns\n",
        "import matplotlib.pyplot as plt\n",
        "\n",
        "# Fazer previsões no conjunto de teste\n",
        "y_pred_tensor = model(X_test_tensor)\n",
        "y_pred = torch.argmax(y_pred_tensor, axis=1).numpy()\n",
        "\n",
        "# Relatório de classificação (precision, recall, F1-score)\n",
        "print(\"Relatório de Classificação:\\n\")\n",
        "print(classification_report(y_test, y_pred))\n"
      ]
    },
    {
      "cell_type": "markdown",
      "metadata": {
        "id": "U3g6orAIZ3yO"
      },
      "source": [
        "O modelo está bom no geral (88% de acurácia), mas está errando mais nas classes menores (3, 4 e 5). Isso acontece porque elas têm menos exemplos, então o modelo não aprende tão bem."
      ]
    },
    {
      "cell_type": "markdown",
      "metadata": {
        "id": "3GdN98eKaDRv"
      },
      "source": [
        "# Aplicar SMOTE"
      ]
    },
    {
      "cell_type": "code",
      "execution_count": 19,
      "metadata": {
        "colab": {
          "base_uri": "https://localhost:8080/"
        },
        "id": "LW4Ki0ZKaEfm",
        "outputId": "6aba73d2-e96e-4025-86eb-a294a954ee87"
      },
      "outputs": [
        {
          "name": "stdout",
          "output_type": "stream",
          "text": [
            "Distribuição após SMOTE: Counter({1: 226640, 6: 226640, 0: 226640, 4: 226640, 2: 226640, 3: 226640, 5: 226640})\n"
          ]
        }
      ],
      "source": [
        "from imblearn.over_sampling import SMOTE\n",
        "from collections import Counter\n",
        "\n",
        "# Aplicar SMOTE para balancear os dados\n",
        "smote = SMOTE(random_state=42)\n",
        "X_resampled, y_resampled = smote.fit_resample(X_train, y_train)\n",
        "\n",
        "# Verificando a nova distribuição das classes\n",
        "print(\"Distribuição após SMOTE:\", Counter(y_resampled))\n"
      ]
    },
    {
      "cell_type": "markdown",
      "metadata": {
        "id": "SqVubJSYgkkA"
      },
      "source": [
        "# Conversão para Tensors e Split de Dados"
      ]
    },
    {
      "cell_type": "code",
      "execution_count": null,
      "metadata": {
        "id": "ke4IOjexaIQW"
      },
      "outputs": [],
      "source": [
        "# Convertendo os dados balanceados para tensors\n",
        "X_resampled_tensor = torch.tensor(X_resampled.values, dtype=torch.float32)\n",
        "y_resampled_tensor = torch.tensor(y_resampled.values, dtype=torch.long)\n",
        "\n",
        "# Dividindo os dados balanceados em treino e teste\n",
        "X_train_final, X_test_final, y_train_final, y_test_final = train_test_split(\n",
        "    X_resampled_tensor, y_resampled_tensor, test_size=0.2, random_state=42, stratify=y_resampled_tensor\n",
        ")"
      ]
    },
    {
      "cell_type": "markdown",
      "metadata": {
        "id": "Q_4-EIWfgoFo"
      },
      "source": [
        "# Atualização dos DataLoaders"
      ]
    },
    {
      "cell_type": "code",
      "execution_count": 21,
      "metadata": {
        "id": "QZVQj4e0aWBX"
      },
      "outputs": [],
      "source": [
        "# Criando os datasets do PyTorch com os dados balanceados pelo SMOTE\n",
        "train_dataset = TensorDataset(X_train_final, y_train_final)\n",
        "test_dataset = TensorDataset(X_test_final, y_test_final)\n",
        "\n",
        "\n",
        "# Já existiam DataLoaders antes do SMOTE\n",
        "train_loader = DataLoader(train_dataset, batch_size=batch_size, shuffle=True)\n",
        "test_loader = DataLoader(test_dataset, batch_size=batch_size, shuffle=False)\n"
      ]
    },
    {
      "cell_type": "code",
      "execution_count": 22,
      "metadata": {
        "colab": {
          "base_uri": "https://localhost:8080/"
        },
        "id": "P5235dsVamn3",
        "outputId": "373e52e6-6650-4119-f75c-f4bf99e23704"
      },
      "outputs": [
        {
          "name": "stdout",
          "output_type": "stream",
          "text": [
            "Epoch [1/10], Loss: 0.2902\n",
            "Epoch [2/10], Loss: 0.2618\n",
            "Epoch [3/10], Loss: 0.2495\n",
            "Epoch [4/10], Loss: 0.2425\n",
            "Epoch [5/10], Loss: 0.2362\n",
            "Epoch [6/10], Loss: 0.2323\n",
            "Epoch [7/10], Loss: 0.2285\n",
            "Epoch [8/10], Loss: 0.2255\n",
            "Epoch [9/10], Loss: 0.2229\n",
            "Epoch [10/10], Loss: 0.2202\n"
          ]
        }
      ],
      "source": [
        "# Treinamento do modelo\n",
        "epochs = 10\n",
        "for epoch in range(epochs):\n",
        "    model.train()\n",
        "    running_loss = 0.0\n",
        "    for batch_X, batch_y in train_loader:\n",
        "        optimizer.zero_grad()\n",
        "        outputs = model(batch_X)\n",
        "        loss = criterion(outputs, batch_y)\n",
        "        loss.backward()\n",
        "        optimizer.step()\n",
        "        running_loss += loss.item()\n",
        "\n",
        "    print(f'Epoch [{epoch+1}/{epochs}], Loss: {running_loss/len(train_loader):.4f}')"
      ]
    },
    {
      "cell_type": "code",
      "execution_count": 23,
      "metadata": {
        "colab": {
          "base_uri": "https://localhost:8080/"
        },
        "id": "6ltKt48kauao",
        "outputId": "4f423ee2-6a74-4931-b4b9-305fa3140c18"
      },
      "outputs": [
        {
          "name": "stdout",
          "output_type": "stream",
          "text": [
            "Acurácia no conjunto de teste: 93.54%\n"
          ]
        }
      ],
      "source": [
        "from sklearn.metrics import classification_report, accuracy_score\n",
        "\n",
        "# Avaliação do modelo\n",
        "model.eval()\n",
        "y_true, y_pred = [], []\n",
        "with torch.no_grad():\n",
        "    for batch_X, batch_y in test_loader:\n",
        "        outputs = model(batch_X)\n",
        "        _, predicted = torch.max(outputs, 1)\n",
        "        y_true.extend(batch_y.numpy())\n",
        "        y_pred.extend(predicted.numpy())\n",
        "\n",
        "# Cálculo da acurácia\n",
        "test_accuracy = accuracy_score(y_true, y_pred)\n",
        "print(f'Acurácia no conjunto de teste: {test_accuracy * 100:.2f}%')"
      ]
    },
    {
      "cell_type": "code",
      "execution_count": 24,
      "metadata": {
        "colab": {
          "base_uri": "https://localhost:8080/"
        },
        "id": "cxHLJmtAaw1f",
        "outputId": "f8f088d7-c7dc-4793-9735-518935d9c1ed"
      },
      "outputs": [
        {
          "name": "stdout",
          "output_type": "stream",
          "text": [
            "Relatório de Classificação:\n",
            "\n",
            "              precision    recall  f1-score   support\n",
            "\n",
            "           0       0.91      0.83      0.87     45328\n",
            "           1       0.86      0.86      0.86     45328\n",
            "           2       0.94      0.93      0.94     45328\n",
            "           3       0.98      0.99      0.99     45328\n",
            "           4       0.95      0.99      0.97     45328\n",
            "           5       0.93      0.95      0.94     45328\n",
            "           6       0.97      1.00      0.98     45328\n",
            "\n",
            "    accuracy                           0.94    317296\n",
            "   macro avg       0.93      0.94      0.93    317296\n",
            "weighted avg       0.93      0.94      0.93    317296\n",
            "\n"
          ]
        }
      ],
      "source": [
        "# Relatório de classificação\n",
        "print(\"Relatório de Classificação:\\n\")\n",
        "print(classification_report(y_true, y_pred))"
      ]
    },
    {
      "cell_type": "markdown",
      "metadata": {
        "id": "3-pfAWsBd-0g"
      },
      "source": [
        "O modelo apresentou uma melhora significativa na acurácia, atingindo 93,54%, e agora trabalha com classes balanceadas. O recall das classes menores aumentou, tornando a classificação mais equilibrada e reduzindo vieses anteriores. Além disso, as classes com melhor desempenho, como as de maior recall (3, 4 e 6), indicam que o modelo está aprendendo bem padrões distintos."
      ]
    }
  ],
  "metadata": {
    "colab": {
      "provenance": []
    },
    "kernelspec": {
      "display_name": "Python 3",
      "name": "python3"
    },
    "language_info": {
      "name": "python"
    }
  },
  "nbformat": 4,
  "nbformat_minor": 0
}
